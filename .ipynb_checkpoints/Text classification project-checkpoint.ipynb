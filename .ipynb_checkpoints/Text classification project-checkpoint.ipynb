{
 "cells": [
  {
   "cell_type": "markdown",
   "metadata": {},
   "source": [
    "# Progetto ML:  Text Classification\n"
   ]
  },
  {
   "cell_type": "markdown",
   "metadata": {},
   "source": [
    "Il seguente progetto, realizzato e presentato relativamente al corso di ML 2021/2022, presenta come fine ultimo l’applicazione di metodologie di apprendimento supervisionato al task di Text Classification. "
   ]
  },
  {
   "cell_type": "code",
   "execution_count": 1,
   "metadata": {
    "scrolled": true
   },
   "outputs": [
    {
     "name": "stderr",
     "output_type": "stream",
     "text": [
      "[nltk_data] Downloading package punkt to\n",
      "[nltk_data]     /Users/fabiofontana/nltk_data...\n",
      "[nltk_data]   Package punkt is already up-to-date!\n",
      "[nltk_data] Downloading package wordnet to\n",
      "[nltk_data]     /Users/fabiofontana/nltk_data...\n",
      "[nltk_data]   Package wordnet is already up-to-date!\n",
      "[nltk_data] Downloading package averaged_perceptron_tagger to\n",
      "[nltk_data]     /Users/fabiofontana/nltk_data...\n",
      "[nltk_data]   Package averaged_perceptron_tagger is already up-to-\n",
      "[nltk_data]       date!\n",
      "[nltk_data] Downloading package stopwords to\n",
      "[nltk_data]     /Users/fabiofontana/nltk_data...\n",
      "[nltk_data]   Package stopwords is already up-to-date!\n"
     ]
    }
   ],
   "source": [
    "import pandas as pd\n",
    "import numpy as np\n",
    "import nltk\n",
    "nltk.download('punkt')\n",
    "nltk.download('wordnet')\n",
    "nltk.download('averaged_perceptron_tagger')\n",
    "nltk.download('stopwords')\n",
    "from nltk.tokenize import word_tokenize\n",
    "from nltk import pos_tag\n",
    "from nltk.corpus import stopwords\n",
    "from nltk.stem import WordNetLemmatizer\n",
    "from sklearn.preprocessing import LabelEncoder\n",
    "from collections import defaultdict\n",
    "from nltk.corpus import wordnet as wn\n",
    "from sklearn.feature_extraction.text import TfidfVectorizer\n",
    "from sklearn import model_selection, naive_bayes, svm\n",
    "from sklearn.metrics import accuracy_score\n",
    "from sklearn.metrics import classification_report\n",
    "import matplotlib.pyplot as plt\n",
    "\n",
    "from sklearn.metrics import confusion_matrix\n",
    "import seaborn as sn\n",
    "import matplotlib.pyplot as plt\n",
    "from sklearn import metrics"
   ]
  },
  {
   "cell_type": "markdown",
   "metadata": {},
   "source": [
    "Importazione dataset da file .txt sottoforma di Datafram grazie alla libreria Pandas.\n",
    "Primo pre-processing in cui vengono aggiunte le intestazioni delle colonne (label, question) e viene formattata la struttura dal dataframe in un formato utile per poterla utilizzare agevolmente. \n",
    "Si esegue poi una prima fase di check per la presenza di valori nulli/mancanti, dopodichè si esegue il lowercasing del testo, seguito da tokenizzazione e POS tagging. "
   ]
  },
  {
   "cell_type": "code",
   "execution_count": 2,
   "metadata": {},
   "outputs": [],
   "source": [
    "Corpus = pd.read_csv(\"training_set.txt\", sep = \"delimiter\", engine = \"python\", encoding='latin-1', header = None)\n",
    "\n",
    "#vado a separare le frasi dato un separatore in questo caso lo spazio\n",
    "#considero 1 come numero di volte che devo splittare, expand=true mi fa ritornare un dataframe\n",
    "Corpus = Corpus[0].str.split('\\t', 1, expand=True)\n",
    "\n",
    "#assegno le etichette alle colonne del dataframe\n",
    "Corpus.columns=[\"label\", \"question\"]\n",
    "\n",
    "#sostituisco |t con lo spazio tra la frase e l'autore\n",
    "Corpus['question'] = Corpus['question'].str.replace('\\t',' ')\n",
    "\n",
    "#dropna rimuoive valori nulli\n",
    "Corpus['question'].dropna(inplace=True)\n",
    "\n",
    "#lowercasing\n",
    "Corpus['question'] = [entry.lower() for entry in Corpus['question']]\n",
    "\n",
    "#word tokenizing separa ogni elemento della frase nella colonna question\n",
    "Corpus['question']= [word_tokenize(entry) for entry in Corpus['question']]\n",
    "\n",
    "#POS tagging con i valori dal dizionario wordnet\n",
    "tag_map = defaultdict(lambda : wn.NOUN)\n",
    "tag_map['J'] = wn.ADJ\n",
    "tag_map['V'] = wn.VERB\n",
    "tag_map['R'] = wn.ADV\n"
   ]
  },
  {
   "cell_type": "code",
   "execution_count": 3,
   "metadata": {},
   "outputs": [
    {
     "data": {
      "text/html": [
       "<div>\n",
       "<style scoped>\n",
       "    .dataframe tbody tr th:only-of-type {\n",
       "        vertical-align: middle;\n",
       "    }\n",
       "\n",
       "    .dataframe tbody tr th {\n",
       "        vertical-align: top;\n",
       "    }\n",
       "\n",
       "    .dataframe thead th {\n",
       "        text-align: right;\n",
       "    }\n",
       "</style>\n",
       "<table border=\"1\" class=\"dataframe\">\n",
       "  <thead>\n",
       "    <tr style=\"text-align: right;\">\n",
       "      <th></th>\n",
       "      <th>label</th>\n",
       "      <th>question</th>\n",
       "    </tr>\n",
       "  </thead>\n",
       "  <tbody>\n",
       "    <tr>\n",
       "      <th>0</th>\n",
       "      <td>HISTORY</td>\n",
       "      <td>[``, this, state, 's, been, ``, '', on, my, mi...</td>\n",
       "    </tr>\n",
       "    <tr>\n",
       "      <th>1</th>\n",
       "      <td>LITERATURE</td>\n",
       "      <td>[western, novelist, francis, harte, 's, middle...</td>\n",
       "    </tr>\n",
       "    <tr>\n",
       "      <th>2</th>\n",
       "      <td>MUSIC</td>\n",
       "      <td>[``, this, ``, '', billy, the, kid, '', '', co...</td>\n",
       "    </tr>\n",
       "    <tr>\n",
       "      <th>3</th>\n",
       "      <td>MUSIC</td>\n",
       "      <td>[noted, with, a, dot, on, the, score, ,, it, '...</td>\n",
       "    </tr>\n",
       "    <tr>\n",
       "      <th>4</th>\n",
       "      <td>SCIENCE</td>\n",
       "      <td>[if, the, solar, system, 's, 9, planets, were,...</td>\n",
       "    </tr>\n",
       "    <tr>\n",
       "      <th>...</th>\n",
       "      <td>...</td>\n",
       "      <td>...</td>\n",
       "    </tr>\n",
       "    <tr>\n",
       "      <th>9495</th>\n",
       "      <td>GEOGRAPHY</td>\n",
       "      <td>[this, sea, provides, most, of, turkey, 's, no...</td>\n",
       "    </tr>\n",
       "    <tr>\n",
       "      <th>9496</th>\n",
       "      <td>GEOGRAPHY</td>\n",
       "      <td>[galesburg, ,, seat, of, this, state, 's, knox...</td>\n",
       "    </tr>\n",
       "    <tr>\n",
       "      <th>9497</th>\n",
       "      <td>HISTORY</td>\n",
       "      <td>[a, 19th, c., duchess, who, felt, faint, in, t...</td>\n",
       "    </tr>\n",
       "    <tr>\n",
       "      <th>9498</th>\n",
       "      <td>HISTORY</td>\n",
       "      <td>[during, the, third, of, these, military, expe...</td>\n",
       "    </tr>\n",
       "    <tr>\n",
       "      <th>9499</th>\n",
       "      <td>HISTORY</td>\n",
       "      <td>[in, 1542, this, 50ish, swk, (, single, white,...</td>\n",
       "    </tr>\n",
       "  </tbody>\n",
       "</table>\n",
       "<p>9500 rows × 2 columns</p>\n",
       "</div>"
      ],
      "text/plain": [
       "           label                                           question\n",
       "0        HISTORY  [``, this, state, 's, been, ``, '', on, my, mi...\n",
       "1     LITERATURE  [western, novelist, francis, harte, 's, middle...\n",
       "2          MUSIC  [``, this, ``, '', billy, the, kid, '', '', co...\n",
       "3          MUSIC  [noted, with, a, dot, on, the, score, ,, it, '...\n",
       "4        SCIENCE  [if, the, solar, system, 's, 9, planets, were,...\n",
       "...          ...                                                ...\n",
       "9495   GEOGRAPHY  [this, sea, provides, most, of, turkey, 's, no...\n",
       "9496   GEOGRAPHY  [galesburg, ,, seat, of, this, state, 's, knox...\n",
       "9497     HISTORY  [a, 19th, c., duchess, who, felt, faint, in, t...\n",
       "9498     HISTORY  [during, the, third, of, these, military, expe...\n",
       "9499     HISTORY  [in, 1542, this, 50ish, swk, (, single, white,...\n",
       "\n",
       "[9500 rows x 2 columns]"
      ]
     },
     "execution_count": 3,
     "metadata": {},
     "output_type": "execute_result"
    }
   ],
   "source": [
    "Corpus"
   ]
  },
  {
   "cell_type": "code",
   "execution_count": 4,
   "metadata": {},
   "outputs": [
    {
     "data": {
      "text/plain": [
       "HISTORY       2585\n",
       "LITERATURE    2239\n",
       "MUSIC         2186\n",
       "SCIENCE       1479\n",
       "GEOGRAPHY     1011\n",
       "Name: label, dtype: int64"
      ]
     },
     "execution_count": 4,
     "metadata": {},
     "output_type": "execute_result"
    }
   ],
   "source": [
    "Corpus[\"label\"].value_counts()"
   ]
  },
  {
   "cell_type": "code",
   "execution_count": 5,
   "metadata": {},
   "outputs": [
    {
     "data": {
      "text/plain": [
       "<AxesSubplot:ylabel='label'>"
      ]
     },
     "execution_count": 5,
     "metadata": {},
     "output_type": "execute_result"
    },
    {
     "data": {
      "image/png": "[encoded data removed]",
      "text/plain": [
       "<Figure size 432x288 with 1 Axes>"
      ]
     },
     "metadata": {},
     "output_type": "display_data"
    }
   ],
   "source": [
    "Corpus[\"label\"].value_counts().plot(kind=\"pie\", autopct=\"%.0f%%\")\n"
   ]
  },
  {
   "cell_type": "markdown",
   "metadata": {},
   "source": [
    "     Training Set"
   ]
  },
  {
   "cell_type": "code",
   "execution_count": 6,
   "metadata": {},
   "outputs": [],
   "source": [
    "#generiamo una nuova colonna chiamata text_final in cui andiamo\n",
    "#a eliminare le stopword e a lemmizzare gli elementi della frase nella colonna question\n",
    "for index,entry in enumerate(Corpus['question']):\n",
    "    Final_words = []\n",
    "    word_Lemmatized = WordNetLemmatizer()\n",
    "    for word, tag in pos_tag(entry):\n",
    "        if word not in stopwords.words('english') and word.isalpha():\n",
    "            word_Final = word_Lemmatized.lemmatize(word,tag_map[tag[0]])\n",
    "            Final_words.append(word_Final)\n",
    "    Corpus.loc[index,'text_final'] = str(Final_words)\n",
    "\n"
   ]
  },
  {
   "cell_type": "code",
   "execution_count": 7,
   "metadata": {},
   "outputs": [
    {
     "data": {
      "text/html": [
       "<div>\n",
       "<style scoped>\n",
       "    .dataframe tbody tr th:only-of-type {\n",
       "        vertical-align: middle;\n",
       "    }\n",
       "\n",
       "    .dataframe tbody tr th {\n",
       "        vertical-align: top;\n",
       "    }\n",
       "\n",
       "    .dataframe thead th {\n",
       "        text-align: right;\n",
       "    }\n",
       "</style>\n",
       "<table border=\"1\" class=\"dataframe\">\n",
       "  <thead>\n",
       "    <tr style=\"text-align: right;\">\n",
       "      <th></th>\n",
       "      <th>label</th>\n",
       "      <th>question</th>\n",
       "      <th>text_final</th>\n",
       "    </tr>\n",
       "  </thead>\n",
       "  <tbody>\n",
       "    <tr>\n",
       "      <th>0</th>\n",
       "      <td>HISTORY</td>\n",
       "      <td>[``, this, state, 's, been, ``, '', on, my, mi...</td>\n",
       "      <td>['state', 'mind', 'since', 'enter', 'union', '...</td>\n",
       "    </tr>\n",
       "    <tr>\n",
       "      <th>1</th>\n",
       "      <td>LITERATURE</td>\n",
       "      <td>[western, novelist, francis, harte, 's, middle...</td>\n",
       "      <td>['western', 'novelist', 'francis', 'harte', 'm...</td>\n",
       "    </tr>\n",
       "    <tr>\n",
       "      <th>2</th>\n",
       "      <td>MUSIC</td>\n",
       "      <td>[``, this, ``, '', billy, the, kid, '', '', co...</td>\n",
       "      <td>['billy', 'kid', 'composer', 'oscar', 'score',...</td>\n",
       "    </tr>\n",
       "    <tr>\n",
       "      <th>3</th>\n",
       "      <td>MUSIC</td>\n",
       "      <td>[noted, with, a, dot, on, the, score, ,, it, '...</td>\n",
       "      <td>['note', 'dot', 'score', 'opposite', 'legato',...</td>\n",
       "    </tr>\n",
       "    <tr>\n",
       "      <th>4</th>\n",
       "      <td>SCIENCE</td>\n",
       "      <td>[if, the, solar, system, 's, 9, planets, were,...</td>\n",
       "      <td>['solar', 'system', 'planet', 'line', 'small',...</td>\n",
       "    </tr>\n",
       "  </tbody>\n",
       "</table>\n",
       "</div>"
      ],
      "text/plain": [
       "        label                                           question  \\\n",
       "0     HISTORY  [``, this, state, 's, been, ``, '', on, my, mi...   \n",
       "1  LITERATURE  [western, novelist, francis, harte, 's, middle...   \n",
       "2       MUSIC  [``, this, ``, '', billy, the, kid, '', '', co...   \n",
       "3       MUSIC  [noted, with, a, dot, on, the, score, ,, it, '...   \n",
       "4     SCIENCE  [if, the, solar, system, 's, 9, planets, were,...   \n",
       "\n",
       "                                          text_final  \n",
       "0  ['state', 'mind', 'since', 'enter', 'union', '...  \n",
       "1  ['western', 'novelist', 'francis', 'harte', 'm...  \n",
       "2  ['billy', 'kid', 'composer', 'oscar', 'score',...  \n",
       "3  ['note', 'dot', 'score', 'opposite', 'legato',...  \n",
       "4  ['solar', 'system', 'planet', 'line', 'small',...  "
      ]
     },
     "execution_count": 7,
     "metadata": {},
     "output_type": "execute_result"
    }
   ],
   "source": [
    "Corpus.head(5)"
   ]
  },
  {
   "cell_type": "code",
   "execution_count": 8,
   "metadata": {},
   "outputs": [
    {
     "data": {
      "text/html": [
       "<div>\n",
       "<style scoped>\n",
       "    .dataframe tbody tr th:only-of-type {\n",
       "        vertical-align: middle;\n",
       "    }\n",
       "\n",
       "    .dataframe tbody tr th {\n",
       "        vertical-align: top;\n",
       "    }\n",
       "\n",
       "    .dataframe thead th {\n",
       "        text-align: right;\n",
       "    }\n",
       "</style>\n",
       "<table border=\"1\" class=\"dataframe\">\n",
       "  <thead>\n",
       "    <tr style=\"text-align: right;\">\n",
       "      <th></th>\n",
       "      <th>label</th>\n",
       "      <th>text_final</th>\n",
       "    </tr>\n",
       "  </thead>\n",
       "  <tbody>\n",
       "    <tr>\n",
       "      <th>0</th>\n",
       "      <td>HISTORY</td>\n",
       "      <td>['state', 'mind', 'since', 'enter', 'union', '...</td>\n",
       "    </tr>\n",
       "    <tr>\n",
       "      <th>1</th>\n",
       "      <td>LITERATURE</td>\n",
       "      <td>['western', 'novelist', 'francis', 'harte', 'm...</td>\n",
       "    </tr>\n",
       "    <tr>\n",
       "      <th>2</th>\n",
       "      <td>MUSIC</td>\n",
       "      <td>['billy', 'kid', 'composer', 'oscar', 'score',...</td>\n",
       "    </tr>\n",
       "    <tr>\n",
       "      <th>3</th>\n",
       "      <td>MUSIC</td>\n",
       "      <td>['note', 'dot', 'score', 'opposite', 'legato',...</td>\n",
       "    </tr>\n",
       "    <tr>\n",
       "      <th>4</th>\n",
       "      <td>SCIENCE</td>\n",
       "      <td>['solar', 'system', 'planet', 'line', 'small',...</td>\n",
       "    </tr>\n",
       "  </tbody>\n",
       "</table>\n",
       "</div>"
      ],
      "text/plain": [
       "        label                                         text_final\n",
       "0     HISTORY  ['state', 'mind', 'since', 'enter', 'union', '...\n",
       "1  LITERATURE  ['western', 'novelist', 'francis', 'harte', 'm...\n",
       "2       MUSIC  ['billy', 'kid', 'composer', 'oscar', 'score',...\n",
       "3       MUSIC  ['note', 'dot', 'score', 'opposite', 'legato',...\n",
       "4     SCIENCE  ['solar', 'system', 'planet', 'line', 'small',..."
      ]
     },
     "execution_count": 8,
     "metadata": {},
     "output_type": "execute_result"
    }
   ],
   "source": [
    "a=Corpus.drop('question', axis=1)\n",
    "a.head(5)"
   ]
  },
  {
   "cell_type": "markdown",
   "metadata": {},
   "source": [
    "Test Set"
   ]
  },
  {
   "cell_type": "code",
   "execution_count": 9,
   "metadata": {},
   "outputs": [],
   "source": [
    "\n",
    "#stesso preprocessing per il test_set    \n",
    "devClean = pd.read_csv(\"test_set.txt\", header = None, sep=\"delimiter\", encoding='latin-1', engine = \"python\")\n",
    "devClean = devClean[0].str.split('\\t', 1, expand=True)\n",
    "devClean.columns=[\"label\", \"question\"]\n",
    "devClean['question'] = devClean['question'].str.replace('\\t',' ')\n",
    "\n",
    "devClean['question'].dropna(inplace=True)\n",
    "\n",
    "devClean['question'] = [entry.lower() for entry in devClean['question']]\n",
    "\n",
    "devClean['question']= [word_tokenize(entry) for entry in devClean['question']]\n",
    "\n",
    "tag_map = defaultdict(lambda : wn.NOUN)\n",
    "tag_map['J'] = wn.ADJ\n",
    "tag_map['V'] = wn.VERB\n",
    "tag_map['R'] = wn.ADV\n",
    "\n",
    "\n",
    "for index,entry in enumerate(devClean['question']):\n",
    "    Final_words = []\n",
    "    word_Lemmatized = WordNetLemmatizer()\n",
    "    for word, tag in pos_tag(entry):\n",
    "        if word not in stopwords.words('english') and word.isalpha():\n",
    "            word_Final = word_Lemmatized.lemmatize(word,tag_map[tag[0]])\n",
    "            Final_words.append(word_Final)\n",
    "    devClean.loc[index,'text_final'] = str(Final_words)\n",
    "\n"
   ]
  },
  {
   "cell_type": "markdown",
   "metadata": {},
   "source": [
    "## Encoding"
   ]
  },
  {
   "cell_type": "markdown",
   "metadata": {},
   "source": [
    "Encoding Label"
   ]
  },
  {
   "cell_type": "code",
   "execution_count": 10,
   "metadata": {},
   "outputs": [
    {
     "data": {
      "text/plain": [
       "array([1, 2, 3, ..., 1, 1, 1])"
      ]
     },
     "execution_count": 10,
     "metadata": {},
     "output_type": "execute_result"
    }
   ],
   "source": [
    "#vado a creare due array sia per il training che per il test set in cui parametrizzo le \n",
    "#etichette della colonna label del corpus (esempio: HISTORY=1, LITERATURE=2, MUSIC=3,...)\n",
    "\n",
    "Encoder = LabelEncoder()\n",
    "Corpus_label = Encoder.fit_transform(Corpus[\"label\"])\n",
    "devClean_label = Encoder.fit_transform(devClean[\"label\"])\n",
    "\n",
    "Corpus_label\n"
   ]
  },
  {
   "cell_type": "markdown",
   "metadata": {},
   "source": [
    "Encoding testo mediante Tf-Idf"
   ]
  },
  {
   "cell_type": "code",
   "execution_count": 11,
   "metadata": {},
   "outputs": [],
   "source": [
    "#vettorizzazione delle word all'interno della colonna text_final con l'uso di tfidf\n",
    "#max_feature=5000 definisce il limite massimo di parole da utilizzare per il tfidf\n",
    "Tfidf_vect = TfidfVectorizer(max_features=5000)\n",
    "Tfidf_vect.fit(Corpus['text_final'])\n",
    "Train_X_Tfidf = Tfidf_vect.transform(Corpus['text_final'])\n",
    "Test_X_Tfidf = Tfidf_vect.transform(devClean[\"text_final\"])"
   ]
  },
  {
   "cell_type": "code",
   "execution_count": 12,
   "metadata": {},
   "outputs": [
    {
     "data": {
      "text/plain": [
       "<500x5000 sparse matrix of type '<class 'numpy.float64'>'\n",
       "\twith 3621 stored elements in Compressed Sparse Row format>"
      ]
     },
     "execution_count": 12,
     "metadata": {},
     "output_type": "execute_result"
    }
   ],
   "source": [
    "Test_X_Tfidf"
   ]
  },
  {
   "cell_type": "markdown",
   "metadata": {},
   "source": [
    "# ALGORITMI UTILIZZATI PER LA CLASSIFICAZIONE"
   ]
  },
  {
   "cell_type": "markdown",
   "metadata": {},
   "source": [
    "# NB"
   ]
  },
  {
   "cell_type": "code",
   "execution_count": 13,
   "metadata": {},
   "outputs": [
    {
     "name": "stdout",
     "output_type": "stream",
     "text": [
      "Naive Bayes Accuracy Score ->  84.0\n"
     ]
    }
   ],
   "source": [
    "#implementazione modello di predizione Naive Bayes\n",
    "Naive = naive_bayes.MultinomialNB()\n",
    "Naive.fit(Train_X_Tfidf,Corpus[\"label\"])\n",
    "predictions_NB = Naive.predict(Test_X_Tfidf)\n",
    "print(\"Naive Bayes Accuracy Score -> \",accuracy_score(devClean[\"label\"], predictions_NB)*100)"
   ]
  },
  {
   "cell_type": "code",
   "execution_count": 14,
   "metadata": {},
   "outputs": [
    {
     "name": "stdout",
     "output_type": "stream",
     "text": [
      "              precision    recall  f1-score   support\n",
      "\n",
      "   GEOGRAPHY       0.86      0.78      0.82        40\n",
      "     HISTORY       0.76      0.87      0.81       138\n",
      "  LITERATURE       0.88      0.86      0.87       124\n",
      "       MUSIC       0.83      0.84      0.83       110\n",
      "     SCIENCE       0.95      0.80      0.86        88\n",
      "\n",
      "    accuracy                           0.84       500\n",
      "   macro avg       0.86      0.83      0.84       500\n",
      "weighted avg       0.85      0.84      0.84       500\n",
      "\n"
     ]
    }
   ],
   "source": [
    "print(classification_report(devClean[\"label\"], predictions_NB))"
   ]
  },
  {
   "cell_type": "code",
   "execution_count": 15,
   "metadata": {},
   "outputs": [
    {
     "data": {
      "image/png": "[encoded data removed]",
      "text/plain": [
       "<Figure size 432x288 with 2 Axes>"
      ]
     },
     "metadata": {},
     "output_type": "display_data"
    }
   ],
   "source": [
    "#vado a graficare la confusion matrix per il modello NB\n",
    "\n",
    "y_actu = devClean[\"label\"]\n",
    "y_pred = predictions_NB\n",
    "confusion_matrix(y_actu,y_pred)\n",
    "\n",
    "array = confusion_matrix(y_actu,y_pred, normalize = None, labels=[\"HISTORY\",\"GEOGRAPHY\",\"LITERATURE\", \"MUSIC\",\"SCIENCE\"])\n",
    "\n",
    "df_cm = pd.DataFrame(array, range(5), range(5))\n",
    "\n",
    "\n",
    "sn.set(font_scale=1.2) \n",
    "sn.heatmap(df_cm, annot=True, annot_kws={\"size\": 14}, fmt = \"d\") \n",
    "plt.xlabel('Predictions', fontsize=16)\n",
    "plt.ylabel('Actuals', fontsize=16)\n",
    "plt.title('Confusion Matrix Multinomial Naive Bayes', fontsize=20)\n",
    "plt.show()"
   ]
  },
  {
   "cell_type": "code",
   "execution_count": 16,
   "metadata": {},
   "outputs": [],
   "source": [
    "NB=pd.DataFrame(predictions_NB)\n",
    "NB.to_csv(\"NB.csv\")"
   ]
  },
  {
   "cell_type": "markdown",
   "metadata": {},
   "source": [
    "# SVM"
   ]
  },
  {
   "cell_type": "code",
   "execution_count": 20,
   "metadata": {},
   "outputs": [
    {
     "name": "stdout",
     "output_type": "stream",
     "text": [
      "SVM Accuracy Score ->  86.4\n"
     ]
    }
   ],
   "source": [
    "#implementazione modello di predizione SVM\n",
    "SVM = svm.SVC(C=1.0, kernel='linear', degree=1, gamma='auto')\n",
    "SVM.fit(Train_X_Tfidf,Corpus[\"label\"])\n",
    "\n",
    "predictions_SVM = SVM.predict(Test_X_Tfidf)\n",
    "\n",
    "print(\"SVM Accuracy Score -> \",accuracy_score(devClean[\"label\"], predictions_SVM)*100)"
   ]
  },
  {
   "cell_type": "code",
   "execution_count": 21,
   "metadata": {},
   "outputs": [
    {
     "name": "stdout",
     "output_type": "stream",
     "text": [
      "              precision    recall  f1-score   support\n",
      "\n",
      "   GEOGRAPHY       0.79      0.85      0.82        40\n",
      "     HISTORY       0.81      0.85      0.83       138\n",
      "  LITERATURE       0.91      0.86      0.89       124\n",
      "       MUSIC       0.87      0.86      0.87       110\n",
      "     SCIENCE       0.92      0.90      0.91        88\n",
      "\n",
      "    accuracy                           0.86       500\n",
      "   macro avg       0.86      0.86      0.86       500\n",
      "weighted avg       0.87      0.86      0.86       500\n",
      "\n"
     ]
    }
   ],
   "source": [
    "print(classification_report(devClean[\"label\"], predictions_SVM))"
   ]
  },
  {
   "cell_type": "code",
   "execution_count": 22,
   "metadata": {},
   "outputs": [
    {
     "data": {
      "image/png": "[encoded data removed]",
      "text/plain": [
       "<Figure size 432x288 with 2 Axes>"
      ]
     },
     "metadata": {},
     "output_type": "display_data"
    }
   ],
   "source": [
    "#vado a graficare la confusion matrix per il modello SVM\n",
    "\n",
    "y_actu = devClean[\"label\"]\n",
    "y_pred = predictions_SVM\n",
    "confusion_matrix(y_actu,y_pred)\n",
    "\n",
    "array = confusion_matrix(y_actu,y_pred, normalize = None, labels=[\"HISTORY\",\"GEOGRAPHY\",\"LITERATURE\", \"MUSIC\",\"SCIENCE\"])\n",
    "\n",
    "df_cm = pd.DataFrame(array, range(5), range(5))\n",
    "\n",
    "\n",
    "sn.set(font_scale=1.2) \n",
    "sn.heatmap(df_cm, annot=True, annot_kws={\"size\": 14}, fmt = \"d\") \n",
    "plt.xlabel('Predictions', fontsize=16)\n",
    "plt.ylabel('Actuals', fontsize=16)\n",
    "plt.title('Confusion Matrix SVM', fontsize=20)\n",
    "plt.show()"
   ]
  },
  {
   "cell_type": "code",
   "execution_count": 23,
   "metadata": {},
   "outputs": [],
   "source": [
    "SVM=pd.DataFrame(predictions_SVM)\n",
    "SVM.to_csv(\"SVM.csv\")"
   ]
  },
  {
   "cell_type": "markdown",
   "metadata": {},
   "source": [
    "# DTC"
   ]
  },
  {
   "cell_type": "code",
   "execution_count": 24,
   "metadata": {},
   "outputs": [
    {
     "name": "stdout",
     "output_type": "stream",
     "text": [
      "DTC Accuracy Score ->  70.8\n"
     ]
    }
   ],
   "source": [
    "#implementazione Decision Tree Classifier\n",
    "from sklearn import tree\n",
    "\n",
    "DTC = tree.DecisionTreeClassifier()\n",
    "DTC = DTC.fit(Train_X_Tfidf,Corpus[\"label\"])\n",
    "prediction_DTC = DTC.predict(Test_X_Tfidf)\n",
    "print(\"DTC Accuracy Score -> \", accuracy_score(devClean[\"label\"],prediction_DTC)*100)"
   ]
  },
  {
   "cell_type": "code",
   "execution_count": 25,
   "metadata": {},
   "outputs": [
    {
     "name": "stdout",
     "output_type": "stream",
     "text": [
      "              precision    recall  f1-score   support\n",
      "\n",
      "   GEOGRAPHY       0.55      0.70      0.62        40\n",
      "     HISTORY       0.71      0.61      0.65       138\n",
      "  LITERATURE       0.75      0.78      0.77       124\n",
      "       MUSIC       0.66      0.74      0.70       110\n",
      "     SCIENCE       0.81      0.73      0.77        88\n",
      "\n",
      "    accuracy                           0.71       500\n",
      "   macro avg       0.70      0.71      0.70       500\n",
      "weighted avg       0.71      0.71      0.71       500\n",
      "\n"
     ]
    }
   ],
   "source": [
    "print(classification_report(devClean[\"label\"], prediction_DTC))"
   ]
  },
  {
   "cell_type": "code",
   "execution_count": 26,
   "metadata": {},
   "outputs": [
    {
     "data": {
      "image/png": "[encoded data removed]",
      "text/plain": [
       "<Figure size 432x288 with 2 Axes>"
      ]
     },
     "metadata": {},
     "output_type": "display_data"
    }
   ],
   "source": [
    "#vado a graficare la confusion matrix per il modello DTC\n",
    "\n",
    "y_actu = devClean[\"label\"]\n",
    "y_pred = prediction_DTC\n",
    "confusion_matrix(y_actu,y_pred)\n",
    "\n",
    "array = confusion_matrix(y_actu,y_pred, normalize = None, labels=[\"HISTORY\",\"GEOGRAPHY\",\"LITERATURE\", \"MUSIC\",\"SCIENCE\"])\n",
    "\n",
    "df_cm = pd.DataFrame(array, range(5), range(5))\n",
    "\n",
    "\n",
    "sn.set(font_scale=1.2) \n",
    "sn.heatmap(df_cm, annot=True, annot_kws={\"size\": 14}, fmt = \"d\") \n",
    "plt.xlabel('Predictions', fontsize=16)\n",
    "plt.ylabel('Actuals', fontsize=16)\n",
    "plt.title('Confusion Matrix Decision Tree', fontsize=20)\n",
    "plt.show()"
   ]
  },
  {
   "cell_type": "code",
   "execution_count": 27,
   "metadata": {},
   "outputs": [],
   "source": [
    "DT=pd.DataFrame(prediction_DTC)\n",
    "DT.to_csv(\"DT.csv\")"
   ]
  },
  {
   "cell_type": "markdown",
   "metadata": {},
   "source": [
    "# RF"
   ]
  },
  {
   "cell_type": "code",
   "execution_count": 28,
   "metadata": {},
   "outputs": [],
   "source": [
    "from sklearn.ensemble import RandomForestClassifier"
   ]
  },
  {
   "cell_type": "code",
   "execution_count": 29,
   "metadata": {},
   "outputs": [
    {
     "name": "stdout",
     "output_type": "stream",
     "text": [
      "RFC Accuracy Score ->  81.0\n"
     ]
    }
   ],
   "source": [
    "RFC = RandomForestClassifier(n_estimators=30)\n",
    "RFC = RFC.fit(Train_X_Tfidf,Corpus[\"label\"])\n",
    "prediction_RFC = RFC.predict(Test_X_Tfidf)\n",
    "print(\"RFC Accuracy Score -> \", accuracy_score(devClean[\"label\"],prediction_RFC)*100)"
   ]
  },
  {
   "cell_type": "code",
   "execution_count": 30,
   "metadata": {},
   "outputs": [
    {
     "name": "stdout",
     "output_type": "stream",
     "text": [
      "              precision    recall  f1-score   support\n",
      "\n",
      "   GEOGRAPHY       0.68      0.80      0.74        40\n",
      "     HISTORY       0.79      0.78      0.78       138\n",
      "  LITERATURE       0.87      0.81      0.84       124\n",
      "       MUSIC       0.79      0.84      0.81       110\n",
      "     SCIENCE       0.86      0.83      0.84        88\n",
      "\n",
      "    accuracy                           0.81       500\n",
      "   macro avg       0.80      0.81      0.80       500\n",
      "weighted avg       0.81      0.81      0.81       500\n",
      "\n"
     ]
    }
   ],
   "source": [
    "print(classification_report(devClean[\"label\"], prediction_RFC))"
   ]
  },
  {
   "cell_type": "code",
   "execution_count": 31,
   "metadata": {},
   "outputs": [
    {
     "data": {
      "image/png": "[encoded data removed]",
      "text/plain": [
       "<Figure size 432x288 with 2 Axes>"
      ]
     },
     "metadata": {},
     "output_type": "display_data"
    }
   ],
   "source": [
    "#vado a graficare la confusion matrix per il modello RF\n",
    "\n",
    "y_actu = devClean[\"label\"]\n",
    "y_pred = prediction_RFC\n",
    "confusion_matrix(y_actu,y_pred)\n",
    "\n",
    "array = confusion_matrix(y_actu,y_pred, normalize = None, labels=[\"HISTORY\",\"GEOGRAPHY\",\"LITERATURE\", \"MUSIC\",\"SCIENCE\"])\n",
    "\n",
    "df_cm = pd.DataFrame(array, range(5), range(5))\n",
    "\n",
    "\n",
    "sn.set(font_scale=1.2) \n",
    "sn.heatmap(df_cm, annot=True, annot_kws={\"size\": 14}, fmt = \"d\") \n",
    "plt.xlabel('Predictions', fontsize=16)\n",
    "plt.ylabel('Actuals', fontsize=16)\n",
    "plt.title('Confusion Matrix Random Forest', fontsize=20)\n",
    "plt.show()"
   ]
  },
  {
   "cell_type": "code",
   "execution_count": 32,
   "metadata": {},
   "outputs": [],
   "source": [
    "RF=pd.DataFrame(prediction_RFC)\n",
    "RF.to_csv(\"RF.csv\")"
   ]
  },
  {
   "cell_type": "markdown",
   "metadata": {},
   "source": [
    "# MLP\n"
   ]
  },
  {
   "cell_type": "code",
   "execution_count": 33,
   "metadata": {},
   "outputs": [
    {
     "name": "stdout",
     "output_type": "stream",
     "text": [
      "MLP Accuracy Score ->  85.39999999999999\n"
     ]
    }
   ],
   "source": [
    "#implementazione MLPclassifier\n",
    "from sklearn.neural_network import MLPClassifier\n",
    "\n",
    "clf = MLPClassifier(solver='adam', alpha=1e-2,\n",
    "                     hidden_layer_sizes=(10,6), random_state=1, validation_fraction=0.1, early_stopping=True, activation = 'tanh')\n",
    "clf.fit(Train_X_Tfidf,Corpus[\"label\"])\n",
    "\n",
    "prediction_MLP = clf.predict(Test_X_Tfidf)\n",
    "print(\"MLP Accuracy Score -> \", accuracy_score(devClean[\"label\"],prediction_MLP)*100)"
   ]
  },
  {
   "cell_type": "code",
   "execution_count": 34,
   "metadata": {
    "scrolled": true
   },
   "outputs": [
    {
     "name": "stdout",
     "output_type": "stream",
     "text": [
      "              precision    recall  f1-score   support\n",
      "\n",
      "   GEOGRAPHY       0.72      0.85      0.78        40\n",
      "     HISTORY       0.81      0.83      0.82       138\n",
      "  LITERATURE       0.91      0.89      0.90       124\n",
      "       MUSIC       0.86      0.88      0.87       110\n",
      "     SCIENCE       0.91      0.82      0.86        88\n",
      "\n",
      "    accuracy                           0.85       500\n",
      "   macro avg       0.84      0.85      0.85       500\n",
      "weighted avg       0.86      0.85      0.85       500\n",
      "\n"
     ]
    }
   ],
   "source": [
    "print(classification_report(devClean[\"label\"], prediction_MLP))"
   ]
  },
  {
   "cell_type": "code",
   "execution_count": 35,
   "metadata": {},
   "outputs": [
    {
     "data": {
      "image/png": "[encoded data removed]",
      "text/plain": [
       "<Figure size 432x288 with 2 Axes>"
      ]
     },
     "metadata": {},
     "output_type": "display_data"
    }
   ],
   "source": [
    "#vado a graficare la confusion matrix per il modello MLP\n",
    "\n",
    "y_actu = devClean[\"label\"]\n",
    "y_pred = prediction_MLP\n",
    "confusion_matrix(y_actu,y_pred)\n",
    "\n",
    "array = confusion_matrix(y_actu,y_pred, normalize = None, labels=[\"HISTORY\",\"GEOGRAPHY\",\"LITERATURE\", \"MUSIC\",\"SCIENCE\"])\n",
    "\n",
    "df_cm = pd.DataFrame(array, range(5), range(5))\n",
    "\n",
    "\n",
    "sn.set(font_scale=1.2) \n",
    "sn.heatmap(df_cm, annot=True, annot_kws={\"size\": 14}, fmt = \"d\") \n",
    "plt.xlabel('Predictions', fontsize=16)\n",
    "plt.ylabel('Actuals', fontsize=16)\n",
    "plt.title('Confusion Matrix MLP', fontsize=20)\n",
    "plt.show()"
   ]
  },
  {
   "cell_type": "code",
   "execution_count": 36,
   "metadata": {},
   "outputs": [],
   "source": [
    "MLP=pd.DataFrame(prediction_MLP)\n",
    "MLP.to_csv(\"MLP.csv\")"
   ]
  },
  {
   "cell_type": "code",
   "execution_count": null,
   "metadata": {},
   "outputs": [],
   "source": []
  }
 ],
 "metadata": {
  "kernelspec": {
   "display_name": "Python 3",
   "language": "python",
   "name": "python3"
  },
  "language_info": {
   "codemirror_mode": {
    "name": "ipython",
    "version": 3
   },
   "file_extension": ".py",
   "mimetype": "text/x-python",
   "name": "python",
   "nbconvert_exporter": "python",
   "pygments_lexer": "ipython3",
   "version": "3.8.5"
  }
 },
 "nbformat": 4,
 "nbformat_minor": 4
}
